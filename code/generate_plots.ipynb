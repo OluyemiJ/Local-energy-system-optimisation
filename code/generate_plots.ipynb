{
 "cells": [
  {
   "cell_type": "code",
   "execution_count": 1,
   "metadata": {
    "collapsed": true
   },
   "outputs": [],
   "source": [
    "# IMPORT STUFF\n",
    "\n",
    "import numpy as np\n",
    "import pandas as pd\n",
    "import matplotlib.pyplot as plt\n",
    "from matplotlib import pylab\n",
    "import os"
   ]
  },
  {
   "cell_type": "code",
   "execution_count": 2,
   "metadata": {
    "collapsed": true
   },
   "outputs": [],
   "source": [
    "# SET PATHS\n",
    "\n",
    "# set the input data file location\n",
    "input_path=r'C:\\Users\\boa\\Documents\\Repositories_Github\\python-ehub\\cases\\hslu_exercises\\input_data.xlsx'\n",
    "\n",
    "# set the results location\n",
    "results_path = 'C:/Users/boa/Documents/Repositories_Github/python-ehub/results/hslu_exercises/'\n",
    "\n",
    "# set name of the results file to be generated\n",
    "results_data = 'results_data.xlsx'\n",
    "\n",
    "result_file = results_path + 'results.txt'\n",
    "param_file = results_path + 'params.txt'\n",
    "plot_path = results_path\n",
    "writer = pd.ExcelWriter(plot_path + results_data, engine='xlsxwriter')"
   ]
  },
  {
   "cell_type": "code",
   "execution_count": 3,
   "metadata": {},
   "outputs": [
    {
     "name": "stdout",
     "output_type": "stream",
     "text": [
      "['Heat pump', 'Gas boiler', 'Solar PV', 'CHP_unit']\n",
      "['Hot water tank', 'Battery']\n"
     ]
    }
   ],
   "source": [
    "# READ LABELS FROM INPUT FILE\n",
    "\n",
    "energy_carriers = pd.read_excel(input_path,sheetname='Energy Carriers', header=None, skiprows=3)\n",
    "conversion_techs = pd.read_excel(input_path,sheetname='Energy Converters', header=None, skiprows=2,skip_footer=20)\n",
    "storage_techs = pd.read_excel(input_path,sheetname='Storage', header=None, skiprows=2,skip_footer=15)\n",
    "\n",
    "energy_carriers2 = energy_carriers[0].tolist()\n",
    "conversion_techs2 = conversion_techs.drop([0],axis=1).transpose()\n",
    "conversion_techs2 = conversion_techs2[0].tolist()\n",
    "storage_techs2 = storage_techs.drop([0],axis=1).transpose()\n",
    "storage_techs2 = storage_techs2[0].tolist()\n",
    "\n",
    "print(conversion_techs2)\n",
    "print(storage_techs2)"
   ]
  },
  {
   "cell_type": "code",
   "execution_count": 4,
   "metadata": {
    "collapsed": true
   },
   "outputs": [],
   "source": [
    "# LOAD THE RESULTS DATA\n",
    "\n",
    "lines = []\n",
    "with open (result_file, 'rt') as in_file:\n",
    "    for line in in_file:\n",
    "        lines.append(line)\n",
    "\n",
    "cap = []\n",
    "capstor = []\n",
    "eout = []\n",
    "outstg = []\n",
    "instg = []\n",
    "socstg = []\n",
    "eimp = []\n",
    "eexp = []\n",
    "for row in lines:\n",
    "    if(row.find(\"TotalCost\") >= 0):\n",
    "        row2 = row.split(sep=\" \")\n",
    "        total_cost = row2[2]\n",
    "\n",
    "    if(row.find(\"IncomeExp\") >= 0):\n",
    "        row2 = row.split(sep=\" \")\n",
    "        total_income = row2[2]\n",
    "\n",
    "    if(row.find(\"TotalCarbon\") >= 0):\n",
    "        row2 = row.split(sep=\" \")\n",
    "        total_carbon = row2[2]\n",
    "        \n",
    "    if(row.find(\"InvCost\") >= 0):\n",
    "        row2 = row.split(sep=\" \")\n",
    "        inv_cost = row2[2]\n",
    "        \n",
    "    if(row.find(\"FuelCost\") >= 0):\n",
    "        row2 = row.split(sep=\" \")\n",
    "        fuel_cost = row2[2]\n",
    "        \n",
    "    if(row.find(\"FOMCost\") >= 0):\n",
    "        row2 = row.split(sep=\" \")\n",
    "        fom_cost = row2[2]\n",
    "        \n",
    "    if(row.find(\"VOMCost\") >= 0):\n",
    "        row2 = row.split(sep=\" \")\n",
    "        vom_cost = row2[2]\n",
    "\n",
    "    if(row.find(\"CapTech\") >= 0):\n",
    "        row2 = row.split(sep=\" \")\n",
    "        cap.append(row2[2:5])\n",
    "\n",
    "    if(row.find(\"CapStg\") >= 0):\n",
    "        row2 = row.split(sep=\" \")\n",
    "        capstor.append(row2[2:5])\n",
    "\n",
    "    if(row.find(\"Eout\") >= 0):\n",
    "        row2 = row.split(sep=\" \")\n",
    "        eout.append(row2[2:6])\n",
    "\n",
    "    if(row.find(\"OutStg\") >= 0):\n",
    "        row2 = row.split(sep=\" \")\n",
    "        outstg.append(row2[2:6])\n",
    "        \n",
    "    if(row.find(\"InStg\") >= 0):\n",
    "        row2 = row.split(sep=\" \")\n",
    "        instg.append(row2[2:6])\n",
    "        \n",
    "    if(row.find(\"SoC\") >= 0):\n",
    "        row2 = row.split(sep=\" \")\n",
    "        socstg.append(row2[2:6])\n",
    "\n",
    "    if(row.find(\"Eimp\") >= 0):\n",
    "        row2 = row.split(sep=\" \")\n",
    "        eimp.append(row2[2:5])\n",
    "\n",
    "    if(row.find(\"Eexp\") >= 0):\n",
    "        row2 = row.split(sep=\" \")\n",
    "        eexp.append(row2[2:5])"
   ]
  },
  {
   "cell_type": "code",
   "execution_count": 5,
   "metadata": {
    "collapsed": true
   },
   "outputs": [],
   "source": [
    "# ADD LABELS\n",
    "\n",
    "# conversion techs\n",
    "capacities = pd.DataFrame(cap, columns = ['tech', 'value'])\n",
    "capacities = capacities.apply(pd.to_numeric)\n",
    "i = 1\n",
    "for label in conversion_techs2:\n",
    "    capacities['tech'] = capacities['tech'].replace(i,label)\n",
    "    i = i+1\n",
    "\n",
    "# storage techs\n",
    "capacities_stor = pd.DataFrame(capstor, columns = ['tech','ec','value'])\n",
    "del capacities_stor['ec']\n",
    "capacities_stor = capacities_stor.apply(pd.to_numeric)\n",
    "i = 1\n",
    "for label in storage_techs2:\n",
    "    capacities_stor['tech'] = capacities_stor['tech'].replace(i,label)\n",
    "    i = i+1\n",
    "\n",
    "# conversion technology outputs\n",
    "eoutdf = pd.DataFrame(eout, columns = ['tm', 'tech', 'ec', 'value'])\n",
    "eoutdf = eoutdf.apply(pd.to_numeric)\n",
    "i = 1\n",
    "for label in conversion_techs2:\n",
    "    eoutdf['tech'] = eoutdf['tech'].replace(i,label)\n",
    "    i = i+1\n",
    "\n",
    "# storage technology outputs\n",
    "stgoutdf = pd.DataFrame(outstg, columns = ['tm', 'tech', 'ec', 'value'])\n",
    "stgoutdf = stgoutdf.apply(pd.to_numeric)\n",
    "i = 1\n",
    "for label in storage_techs2:\n",
    "    stgoutdf['tech'] = stgoutdf['tech'].replace(i,label)\n",
    "    i = i+1\n",
    "eoutdf = eoutdf.append(stgoutdf)\n",
    "\n",
    "# storage technology inputs\n",
    "stgindf = pd.DataFrame(instg, columns = ['tm', 'tech', 'ec', 'value'])\n",
    "stgindf = stgindf.apply(pd.to_numeric)\n",
    "i = 1\n",
    "for label in storage_techs2:\n",
    "    stgindf['tech'] = stgindf['tech'].replace(i,label)\n",
    "    i = i+1\n",
    "    \n",
    "# storage soc\n",
    "stgsocdf = pd.DataFrame(socstg, columns = ['tm', 'tech', 'ec', 'value'])\n",
    "stgsocdf = stgsocdf.apply(pd.to_numeric)\n",
    "i = 1\n",
    "for label in storage_techs2:\n",
    "    stgsocdf['tech'] = stgsocdf['tech'].replace(i,label)\n",
    "    i = i+1\n",
    "\n",
    "# energy imports\n",
    "eimpdf = pd.DataFrame(eimp, columns = ['tm', 'ec', 'value'])\n",
    "eimpdf = eimpdf.apply(pd.to_numeric)\n",
    "i = 1\n",
    "for label in energy_carriers2:\n",
    "    eimpdf['ec'] = eimpdf['ec'].replace(i,label)\n",
    "    i = i+1\n",
    "\n",
    "# energy exports\n",
    "eexpdf = pd.DataFrame(eexp, columns = ['tm', 'ec', 'value'])\n",
    "eexpdf = eexpdf.apply(pd.to_numeric)\n",
    "i = 1\n",
    "for label in energy_carriers2:\n",
    "    eexpdf['ec'] = eexpdf['ec'].replace(i,label)\n",
    "    i = i+1\n",
    "    \n",
    "# key results\n",
    "keyresults = [float(total_cost), float(total_income), float(total_carbon)]\n",
    "key_results = pd.DataFrame(keyresults)\n",
    "key_results = key_results.transpose()\n",
    "key_results.columns = ['cost','income','co2']"
   ]
  },
  {
   "cell_type": "code",
   "execution_count": 6,
   "metadata": {
    "collapsed": true
   },
   "outputs": [],
   "source": [
    "# PRINT KEY RESULTS\n",
    "\n",
    "key_results.to_excel(writer, sheet_name='key_results')\n"
   ]
  },
  {
   "cell_type": "code",
   "execution_count": 7,
   "metadata": {
    "collapsed": true
   },
   "outputs": [],
   "source": [
    "# PLOT CONVERSION TECHNOLOGY CAPACITIES\n",
    "\n",
    "cap = capacities.copy(deep=True)\n",
    "cap = cap[cap['value'] != 0]\n",
    "if cap.empty != True:\n",
    "    cap2 = cap.groupby('tech').sum()\n",
    "    cap2 = cap2.unstack()\n",
    "    #cap2.columns = cap2.columns.droplevel()\n",
    "    #cap2.plot(kind='bar', stacked=True)\n",
    "    #plt.ylabel('Capacity (kWh/h)')\n",
    "    #plt.title('Optimal conversion technology capacities')\n",
    "    #plt.legend(loc=2, fontsize=8, bbox_to_anchor=(0.0, 1.0))\n",
    "    #fig = plt.gcf()\n",
    "    #fig.savefig(plot_path + 'capacities_conversion_technologies.png', format='png', dpi=300)\n",
    "    #plt.close('all')\n",
    "    cap2.to_excel(writer, sheet_name='production_capacities')"
   ]
  },
  {
   "cell_type": "code",
   "execution_count": 8,
   "metadata": {
    "collapsed": true
   },
   "outputs": [],
   "source": [
    "# PLOT STORAGE TECHNOLOGY CAPACITIES\n",
    "\n",
    "cap = capacities_stor.copy(deep=True)\n",
    "cap = cap[cap['value'] != 0]\n",
    "if cap.empty != True:\n",
    "    cap2 = cap.groupby('tech').sum()\n",
    "    cap2 = cap2.unstack()\n",
    "    #cap2.columns = cap2.columns.droplevel()\n",
    "    #cap2.plot(kind='bar', stacked=True)\n",
    "    #plt.xticks([])\n",
    "    #plt.xlabel('Pareto point')\n",
    "    #plt.ylabel('Capacity (kWh)')\n",
    "    #plt.title('Optimal storage technology capacities')\n",
    "    #plt.legend(loc=2, bbox_to_anchor=(0.0, 1.0))\n",
    "    #fig = plt.gcf()\n",
    "    #fig.savefig(plot_path + 'capacities_storage_technologies.png', format='png', dpi=300)\n",
    "    #plt.close('all')\n",
    "    cap2.to_excel(writer, sheet_name='storage_capacities')"
   ]
  },
  {
   "cell_type": "code",
   "execution_count": 9,
   "metadata": {
    "collapsed": true
   },
   "outputs": [],
   "source": [
    "# PLOT THE DAILY PRODUCTION\n",
    "\n",
    "ep = eoutdf.copy(deep=True)\n",
    "day = round(ep['tm'].astype(float)/(24))\n",
    "ep['day'] = day\n",
    "del ep['tm']\n",
    "del ep['ec']\n",
    "#ep = ep[ep['value'] != 0]\n",
    "if ep.empty != True:\n",
    "    ep2 = ep.groupby(['day','tech']).sum()\n",
    "    ep2 = ep2.unstack()\n",
    "    ep2.columns = ep2.columns.droplevel()\n",
    "    ep2.plot(kind='bar', stacked=True)\n",
    "    plt.xticks([])\n",
    "    plt.xlabel('Day')\n",
    "    plt.ylabel('Energy generation (kWh)')\n",
    "    plt.title('Energy generation per technology (aggregated by day)')\n",
    "    plt.legend(loc=2, bbox_to_anchor=(0.0, 1.0))\n",
    "    fig = plt.gcf()\n",
    "    fig.savefig(plot_path + 'daily_output_conversion_technologies.png', format='png', dpi=300)\n",
    "    plt.close('all')\n",
    "    ep2.to_excel(writer, sheet_name='daily_production')"
   ]
  },
  {
   "cell_type": "code",
   "execution_count": 10,
   "metadata": {
    "collapsed": true
   },
   "outputs": [],
   "source": [
    "# PLOT THE DAILY EXPORTS\n",
    "\n",
    "ep = eexpdf.copy(deep=True)\n",
    "day = round(ep['tm'].astype(float)/(24))\n",
    "ep['day'] = day\n",
    "del ep['tm']\n",
    "if ep.empty != True:\n",
    "    ep2 = ep.groupby(['day','ec']).sum()\n",
    "    ep2 = ep2.unstack()\n",
    "    ep2.columns = ep2.columns.droplevel()\n",
    "    ep2.plot(kind='bar', stacked=True)\n",
    "    plt.xticks([])\n",
    "    plt.xlabel('Day')\n",
    "    plt.ylabel('Energy exports (kWh)')\n",
    "    plt.title('Energy exports (aggregated by day)')\n",
    "    plt.legend(loc=2, bbox_to_anchor=(0.0, 1.0))\n",
    "    fig = plt.gcf()\n",
    "    fig.savefig(plot_path + 'daily_exports.png', format='png', dpi=300)\n",
    "    plt.close('all')\n",
    "    ep2.to_excel(writer, sheet_name='daily_exports')\n"
   ]
  },
  {
   "cell_type": "code",
   "execution_count": 11,
   "metadata": {
    "collapsed": true
   },
   "outputs": [],
   "source": [
    "# PLOT THE DAILY IMPORTS\n",
    "\n",
    "ep = eimpdf.copy(deep=True)\n",
    "day = round(ep['tm'].astype(float)/(24))\n",
    "ep['day'] = day\n",
    "del ep['tm']\n",
    "if ep.empty != True:\n",
    "    ep2 = ep.groupby(['day','ec']).sum()\n",
    "    ep2 = ep2.unstack()\n",
    "    ep2.columns = ep2.columns.droplevel()\n",
    "    ep2.plot(kind='bar', stacked=True)\n",
    "    plt.xticks([])\n",
    "    plt.xlabel('Day')\n",
    "    plt.ylabel('Energy imports (kWh)')\n",
    "    plt.title('Energy imports (aggregated by day)')\n",
    "    plt.legend(loc=2, bbox_to_anchor=(0.0, 1.0))\n",
    "    fig = plt.gcf()\n",
    "    fig.savefig(plot_path + 'daily_imports.png', format='png', dpi=300)\n",
    "    plt.close('all')\n",
    "    ep2.to_excel(writer, sheet_name='daily_imports')"
   ]
  },
  {
   "cell_type": "code",
   "execution_count": 12,
   "metadata": {
    "collapsed": true
   },
   "outputs": [],
   "source": [
    "soc = stgsocdf.copy(deep=True)\n",
    "day = round(soc['tm'].astype(float)/(24))\n",
    "soc['day'] = day\n",
    "del soc['tm']\n",
    "del soc['ec']\n",
    "#soc = soc[soc['value'] != 0]\n",
    "if soc.empty != True:\n",
    "    soc2 = soc.groupby(['day','tech']).sum()\n",
    "    soc2 = soc2.unstack()\n",
    "    soc2.columns = soc2.columns.droplevel()\n",
    "    soc2.plot(kind='bar', stacked=True)\n",
    "    plt.xticks([])\n",
    "    plt.xlabel('Day')\n",
    "    plt.ylabel('Storage SoC (kWh)')\n",
    "    plt.title('Storage state of charge (aggregated by day)')\n",
    "    plt.legend(loc=2, bbox_to_anchor=(0.0, 1.0))\n",
    "    fig = plt.gcf()\n",
    "    fig.savefig(plot_path + 'storage_soc.png', format='png', dpi=300)\n",
    "    plt.close('all')\n",
    "    soc.to_excel(writer, sheet_name='storage_soc')"
   ]
  },
  {
   "cell_type": "code",
   "execution_count": 13,
   "metadata": {
    "collapsed": true
   },
   "outputs": [],
   "source": [
    "writer.save()"
   ]
  }
 ],
 "metadata": {
  "kernelspec": {
   "display_name": "Python 3",
   "language": "python",
   "name": "python3"
  },
  "language_info": {
   "codemirror_mode": {
    "name": "ipython",
    "version": 3
   },
   "file_extension": ".py",
   "mimetype": "text/x-python",
   "name": "python",
   "nbconvert_exporter": "python",
   "pygments_lexer": "ipython3",
   "version": "3.6.8"
  }
 },
 "nbformat": 4,
 "nbformat_minor": 2
}
